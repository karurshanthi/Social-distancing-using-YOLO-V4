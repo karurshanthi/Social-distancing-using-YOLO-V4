{
 "cells": [
  {
   "cell_type": "code",
   "execution_count": 34,
   "metadata": {},
   "outputs": [],
   "source": [
    "import numpy as np\n",
    "import imutils\n",
    "import time\n",
    "import cv2\n",
    "import os\n",
    "import math"
   ]
  },
  {
   "cell_type": "code",
   "execution_count": 35,
   "metadata": {},
   "outputs": [],
   "source": [
    "YOLOV3_LABELS_PATH = r'C:\\Users\\W10-Dell\\Downloads\\coco.names'\n",
    "YOLOV3_CFG_PATH = r'C:\\Users\\W10-Dell\\Downloads\\yolov3.cfg'\n",
    "YOLOV3_WEIGHTS_PATH = r'C:\\Users\\W10-Dell\\Downloads\\yolov3.weights'\n",
    "VIDEO_PATH = r'C:\\Users\\W10-Dell\\Downloads\\video.mp4'\n",
    "OUTPUT_PATH = r'C:\\Users\\W10-Dell\\Downloads\\shanthi\\shanu.avi'\n",
    "SAFE_DISTANCE = 60"
   ]
  },
  {
   "cell_type": "code",
   "execution_count": 36,
   "metadata": {},
   "outputs": [],
   "source": [
    "from itertools import chain \n",
    "from constants import *\n",
    "\n",
    "LABELS = open(YOLOV3_LABELS_PATH).read().strip().split('\\n')\n"
   ]
  },
  {
   "cell_type": "code",
   "execution_count": 37,
   "metadata": {},
   "outputs": [],
   "source": [
    "np.random.seed(42)\n",
    "COLORS = np.random.randint(0, 255, size=(len(LABELS), 3), dtype='uint8')"
   ]
  },
  {
   "cell_type": "code",
   "execution_count": 38,
   "metadata": {},
   "outputs": [
    {
     "name": "stdout",
     "output_type": "stream",
     "text": [
      "Loading YOLO from disk...\n"
     ]
    }
   ],
   "source": [
    "print('Loading YOLO from disk...')\n",
    "\n",
    "neural_net = cv2.dnn.readNetFromDarknet(YOLOV3_CFG_PATH, YOLOV3_WEIGHTS_PATH)\n",
    "layer_names = neural_net.getLayerNames()\n",
    "layer_names = [layer_names[i[0] - 1] for i in neural_net.getUnconnectedOutLayers()]"
   ]
  },
  {
   "cell_type": "code",
   "execution_count": 39,
   "metadata": {},
   "outputs": [
    {
     "name": "stdout",
     "output_type": "stream",
     "text": [
      "Total frames detected are:  900\n"
     ]
    }
   ],
   "source": [
    "vs = cv2.VideoCapture(VIDEO_PATH)\n",
    "writer = None\n",
    "(W, H) = (None, None)\n",
    "\n",
    "try:\n",
    "    if(imutils.is_cv2()):\n",
    "        prop = cv2.cv.CV_CAP_PROP_FRAME_COUNT\n",
    "    else:\n",
    "        prop = cv2.CAP_PROP_FRAME_COUNT\n",
    "    total = int(vs.get(prop))\n",
    "    print('Total frames detected are: ', total)\n",
    "except Exception as e:\n",
    "    print(e)\n",
    "    total = -1"
   ]
  },
  {
   "cell_type": "code",
   "execution_count": null,
   "metadata": {},
   "outputs": [],
   "source": [
    "while True:\n",
    "    (grabbed, frame) = vs.read()\n",
    "\n",
    "    if not grabbed:\n",
    "        break\n",
    "\n",
    "    if W is None or H is None:\n",
    "        H, W = (frame.shape[0], frame.shape[1])\n",
    "\n",
    "    blob = cv2.dnn.blobFromImage(frame, 1 / 255.0, (416, 416), swapRB=True, crop=False)\n",
    "    neural_net.setInput(blob)\n",
    "\n",
    "    start_time = time.time()\n",
    "    layer_outputs = neural_net.forward(layer_names)\n",
    "    end_time = time.time()"
   ]
  },
  {
   "cell_type": "code",
   "execution_count": null,
   "metadata": {},
   "outputs": [],
   "source": [
    "boxes = []\n",
    "confidences = [] \n",
    "classIDs = []\n",
    "lines = []\n",
    "box_centers = []\n",
    "\n",
    "for output in layer_outputs:\n",
    "        for detection in output:\n",
    "\n",
    "            scores = detection[5:]\n",
    "            classID = np.argmax(scores)\n",
    "            confidence = scores[classID]\n",
    "\n",
    "            if confidence > 0.5 and classID == 0:\n",
    "                box = detection[0:4] * np.array([W, H, W, H])\n",
    "                (centerX, centerY, width, height) = box.astype('int')\n",
    "\n",
    "                x = int(centerX - (width / 2))\n",
    "                y = int(centerY - (height / 2))\n",
    "\n",
    "                box_centers = [centerX, centerY]\n",
    "\n",
    "                boxes.append([x, y, int(width), int(height)])\n",
    "                confidences.append(float(confidence))\n",
    "                classIDs.append(classID)"
   ]
  },
  {
   "cell_type": "code",
   "execution_count": null,
   "metadata": {},
   "outputs": [],
   "source": [
    "idxs = cv2.dnn.NMSBoxes(boxes, confidences, 0.5, 0.3)\n",
    "\n",
    "if len(idxs) > 0:\n",
    "        unsafe = []\n",
    "        count = 0\n",
    "\n",
    "        for i in idxs.flatten():\n",
    "\n",
    "            (x, y) = (boxes[i][0], boxes[i][1])\n",
    "            (w, h) = (boxes[i][2], boxes[i][3])\n",
    "            centeriX = boxes[i][0] + (boxes[i][2] // 2)\n",
    "            centeriY = boxes[i][1] + (boxes[i][3] // 2)\n",
    "\n",
    "            color = [int(c) for c in COLORS[classIDs[i]]]\n",
    "            text = '{}: {:.4f}'.format(LABELS[classIDs[i]], confidences[i])\n",
    "\n",
    "            idxs_copy = list(idxs.flatten())\n",
    "            idxs_copy.remove(i)\n",
    "\n",
    "            for j in np.array(idxs_copy):\n",
    "                centerjX = boxes[j][0] + (boxes[j][2] // 2)\n",
    "                centerjY = boxes[j][1] + (boxes[j][3] // 2)\n",
    "\n",
    "                distance = math.sqrt(math.pow(centerjX - centeriX, 2) + math.pow(centerjY - centeriY, 2))\n",
    "\n",
    "                if distance <= SAFE_DISTANCE:\n",
    "                    cv2.line(frame, (boxes[i][0] + (boxes[i][2] // 2), boxes[i][1]  + (boxes[i][3] // 2)), (boxes[j][0] + (boxes[j][2] // 2), boxes[j][1] + (boxes[j][3] // 2)), (0, 0, 255), 2)\n",
    "                    unsafe.append([centerjX, centerjY])\n",
    "                    unsafe.append([centeriX, centeriY])\n",
    "\n",
    "            if centeriX in chain(*unsafe) and centeriY in chain(*unsafe):\n",
    "                count += 1\n",
    "                cv2.rectangle(frame, (x, y), (x + w, y + h), (0, 0, 255), 2)\n",
    "            else:\n",
    "                cv2.rectangle(frame, (x, y), (x + w, y + h), (0, 255, 0), 2)\n",
    "\n",
    "            cv2.putText(frame, text, (x, y - 5), cv2.FONT_HERSHEY_SIMPLEX, 0.5, color, 2)\n",
    "            cv2.rectangle(frame, (50, 50), (450, 90), (0, 0, 0), -1)\n",
    "            cv2.putText(frame, 'No. of people unsafe: {}'.format(count), (70, 70), cv2.FONT_HERSHEY_SIMPLEX, 0.7, (0, 255, 0), 3)"
   ]
  },
  {
   "cell_type": "code",
   "execution_count": null,
   "metadata": {},
   "outputs": [],
   "source": [
    "if writer is None:\n",
    "\n",
    "        fourcc = cv2.VideoWriter_fourcc(*'avi')\n",
    "        writer = cv2.VideoWriter(OUTPUT_PATH, fourcc, 30,(W,H),True)\n",
    "                                \n",
    "        if total > 0:\n",
    "            elap = (end_time - start_time)\n",
    "            print('Single frame took {:.4f} seconds'.format(elap))\n",
    "            print('Estimated total time to finish: {:.4f}'.format(elap * total))\n",
    "\n",
    "writer.write(frame)\n",
    "\n",
    "print('Cleaning up...')\n",
    "writer.release()\n",
    "vs.release()   "
   ]
  },
  {
   "cell_type": "code",
   "execution_count": null,
   "metadata": {},
   "outputs": [],
   "source": [
    "    "
   ]
  },
  {
   "cell_type": "code",
   "execution_count": null,
   "metadata": {},
   "outputs": [],
   "source": []
  },
  {
   "cell_type": "code",
   "execution_count": null,
   "metadata": {},
   "outputs": [],
   "source": []
  },
  {
   "cell_type": "code",
   "execution_count": null,
   "metadata": {},
   "outputs": [],
   "source": []
  }
 ],
 "metadata": {
  "kernelspec": {
   "display_name": "Python 3",
   "language": "python",
   "name": "python3"
  },
  "language_info": {
   "codemirror_mode": {
    "name": "ipython",
    "version": 3
   },
   "file_extension": ".py",
   "mimetype": "text/x-python",
   "name": "python",
   "nbconvert_exporter": "python",
   "pygments_lexer": "ipython3",
   "version": "3.7.6"
  }
 },
 "nbformat": 4,
 "nbformat_minor": 4
}
